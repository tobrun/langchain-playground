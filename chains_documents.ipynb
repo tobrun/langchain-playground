{
 "cells": [
  {
   "cell_type": "markdown",
   "metadata": {},
   "source": [
    "# Documents\n",
    "\n",
    "## Stuff \n",
    "\n",
    "Most simple document chains. It takwes a list od documents, and appends them to the prompt.\n",
    "This chain is well-suited for applications where documents are small and only a few are passed in for most calls.\n",
    "\n",
    "## Refine\n",
    "\n",
    "Construcs a response by looping over the input documents and iterativly updating its answer. \n",
    "For each document, it passes all non-document inputs, the current document, \n",
    "and the latest intermediate answer to an LLM chain to get a new answer.\n",
    "\n",
    "Since the Refine chain only passes a single document to the LLM at a time, it is well-suited \n",
    "for tasks that require analyzing more documents than can fit in the model's context. \\\n",
    "The obvious tradeoff is that this chain will make far more LLM calls than, for example, the Stuff documents chain. \n",
    "\n",
    "## Map Reduce\n",
    "\n",
    "First apply a LLM chain to each doc individually, treating the chain output as a new document.\n",
    "It them passes all the documents to a seperate combine documents chain to get a single output (reduce).\n",
    "\n",
    "## Map Re-rank\n",
    "\n",
    "First initatial prompt on each doc and while solving the task also apply a score for how certain it is. \n",
    "\n"
   ]
  }
 ],
 "metadata": {
  "language_info": {
   "name": "python"
  },
  "orig_nbformat": 4
 },
 "nbformat": 4,
 "nbformat_minor": 2
}
