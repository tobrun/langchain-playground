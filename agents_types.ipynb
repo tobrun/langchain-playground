{
 "cells": [
  {
   "cell_type": "markdown",
   "metadata": {},
   "source": [
    "# Agent types\n",
    "\n",
    "Agents use a LLM to determine which actions to take. An action can either be a tool and observing the output,\n",
    "or returning a response to the users. Below a list of agents availlable in LangChain:\n",
    "\n",
    "- Zero-shot ReAct: uses the ReAct framework to determine which tool to use based on tool descriptions. (most general purpose agent)\n",
    "- Structured input ReAct: capable of using multi-input tools. \n",
    "- OpenAI Functions: models have been fine-tuned to detect when a function should be called and respond with the inputs that should be passed.\n",
    "- Conversational: used in conversational settings. The prompt makes the agent helpfull and conversational (uses ReAct for tool selection and has memory)\n",
    "- Self-ask with search: uses a tool called Intermediate-Answer. Factual lookup answers to questions.\n",
    "- ReAct document store: requires a search tool and a lookup tool. "
   ]
  }
 ],
 "metadata": {
  "language_info": {
   "name": "python"
  },
  "orig_nbformat": 4
 },
 "nbformat": 4,
 "nbformat_minor": 2
}
